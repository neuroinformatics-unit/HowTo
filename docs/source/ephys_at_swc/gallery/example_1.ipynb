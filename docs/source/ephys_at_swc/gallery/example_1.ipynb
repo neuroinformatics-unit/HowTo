{
  "cells": [
    {
      "cell_type": "markdown",
      "metadata": {},
      "source": [
        "\n# The Two Moons task\nUse UNLE to fit Two Moons\n"
      ]
    },
    {
      "cell_type": "markdown",
      "metadata": {},
      "source": [
        "## This is a section header\nThis is the first section!\nThe `#%%` signifies to Sphinx-Gallery that this text should be rendered as\nreST and if using one of the above IDE/plugin's, also signifies the start of a\n'code block'.\n\n"
      ]
    },
    {
      "cell_type": "code",
      "execution_count": null,
      "metadata": {
        "collapsed": false
      },
      "outputs": [],
      "source": [
        "# This line won't be rendered as reST because there's a space after the last block.\nmyvariable = 2\nprint(\"my variable is {}\".format(myvariable))\n# This is the end of the 'code block' (if using an above IDE). All code within\n# this block can be easily executed all at once."
      ]
    },
    {
      "cell_type": "markdown",
      "metadata": {},
      "source": [
        "## This is another section header\n\nIn the built documentation, it will be rendered as reST after the code above!\nThis is also another code block.\n\n"
      ]
    },
    {
      "cell_type": "code",
      "execution_count": null,
      "metadata": {
        "collapsed": false
      },
      "outputs": [],
      "source": [
        "print('my variable plus 2 is {}'.format(myvariable + 2))"
      ]
    }
  ],
  "metadata": {
    "kernelspec": {
      "display_name": "Python 3",
      "language": "python",
      "name": "python3"
    },
    "language_info": {
      "codemirror_mode": {
        "name": "ipython",
        "version": 3
      },
      "file_extension": ".py",
      "mimetype": "text/x-python",
      "name": "python",
      "nbconvert_exporter": "python",
      "pygments_lexer": "ipython3",
      "version": "3.10.14"
    }
  },
  "nbformat": 4,
  "nbformat_minor": 0
}
