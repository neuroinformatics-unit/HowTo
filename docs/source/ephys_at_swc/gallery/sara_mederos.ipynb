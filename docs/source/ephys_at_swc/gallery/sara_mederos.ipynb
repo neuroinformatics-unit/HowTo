{
  "cells": [
    {
      "cell_type": "markdown",
      "metadata": {},
      "source": [
        "\n# Sara's Single Session Open Ephys\n\nSara Mederos (Hofer Lab)'s pipeline to ...<subtitle>\n"
      ]
    },
    {
      "cell_type": "markdown",
      "metadata": {},
      "source": [
        "Sara Mederos investigates ... setup ... details...\n\n"
      ]
    },
    {
      "cell_type": "code",
      "execution_count": null,
      "metadata": {
        "collapsed": false
      },
      "outputs": [],
      "source": [
        "import probeinterface.plotting\nfrom spikeinterface import extract_waveforms\nfrom spikeinterface.extractors import read_openephys_event, read_openephys\nfrom spikeinterface.preprocessing import phase_shift, bandpass_filter, common_reference\nfrom spikeinterface.sorters import run_sorter\nfrom pathlib import Path\nfrom probeinterface.plotting import plot_probe, plot_probe_group\nimport matplotlib.pyplot as plt\nfrom spikeinterface import curation\nfrom spikeinterface.widgets import plot_timeseries\nimport spikeinterface as si  # TODO\n\ndata_path = Path(\n    r\"/ceph/.../test_data/100323/2023-10-03_18-57-09/Record Node 101/experiment1\"\n)\noutput_path = Path(\n    r\"/ceph/.../test_data/derivatives/100323/\"\n)\n\nshow_probe = False\nshow_preprocessing = False\n\n# This reads OpenEphys 'Binary' format. It determines the\n# probe using probeinterface.read_openephys, which reads `settings.xml`\n# and requires the NP_PROBE field is filled.\nraw_recording = read_openephys(data_path)\n\nif show_probe:\n    probe = raw_recording.get_probe()\n    plot_probe(probe)\n    plt.show()\n\n# Run the preprocessing steps\nshifted_recording = phase_shift(raw_recording)\nfiltered_recording = bandpass_filter(shifted_recording, freq_min=300, freq_max=6000)\npreprocessed_recording = common_reference(\n    filtered_recording, reference=\"global\", operator=\"median\"\n)\n\nif show_preprocessing:\n    recs_grouped_by_shank = preprocessed_recording.split_by(\"group\")\n    for rec in recs_grouped_by_shank:\n        plot_timeseries(\n            preprocessed_recording,\n            order_channel_by_depth=False,\n            time_range=(3500, 3500),\n            return_scaled=True,\n            show_channel_ids=True,\n            mode=\"map\",\n        )\n        plt.show()\n\n# Run the sorting\nsorting = run_sorter(\n    \"kilosort3\",\n    preprocessed_recording,\n    singularity_image=True,\n    output_folder=(output_path / \"sorting\").as_posix(),\n    car=False,\n    freq_min=150,\n)\n\n# Curate the sorting output and extract waveforms. Calculate\n# quality metrics from the waveforms.\nsorting = sorting.remove_empty_units()\n\nsorting = curation.remove_excess_spikes(sorting, preprocessed_recording)\n\n# The way spikeinterface is setup means that quality metrics are\n# calculated on the spikeinterface-preprocessed, NOT the kilosort\n# preprocessed (i.e. drift-correct data).\n# see https://github.com/SpikeInterface/spikeinterface/pull/1954 for details.\nwaveforms = extract_waveforms(\n    preprocessed_recording,\n    sorting,\n    folder=(output_path / \"postprocessing\").as_posix(),\n    ms_before=2,\n    ms_after=2,\n    max_spikes_per_unit=500,\n    return_scaled=True,\n    sparse=True,\n    peak_sign=\"neg\",\n    method=\"radius\",\n    radius_um=75,\n)\n\nquality_metrics = si.qualitymetrics.compute_quality_metrics(waveforms)\nquality_metrics.to_csv(output_path / \"postprocessing\")"
      ]
    }
  ],
  "metadata": {
    "kernelspec": {
      "display_name": "Python 3",
      "language": "python",
      "name": "python3"
    },
    "language_info": {
      "codemirror_mode": {
        "name": "ipython",
        "version": 3
      },
      "file_extension": ".py",
      "mimetype": "text/x-python",
      "name": "python",
      "nbconvert_exporter": "python",
      "pygments_lexer": "ipython3",
      "version": "3.10.14"
    }
  },
  "nbformat": 4,
  "nbformat_minor": 0
}
